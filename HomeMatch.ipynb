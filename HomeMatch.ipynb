{
 "cells": [
  {
   "cell_type": "markdown",
   "id": "a108af04",
   "metadata": {},
   "source": [
    "This is a starter notebook for the project, you'll have to import the libraries you'll need, you can find a list of the ones available in this workspace in the requirements.txt file in this workspace. "
   ]
  },
  {
   "cell_type": "code",
   "execution_count": 40,
   "id": "6554fd4c",
   "metadata": {},
   "outputs": [],
   "source": [
    "import os\n",
    "\n",
    "os.environ[\"OPENAI_API_KEY\"] = \"YOUR_API_KEY\"\n",
    "os.environ[\"OPENAI_API_BASE\"] = \"https://openai.vocareum.com/v1\"\n"
   ]
  },
  {
   "cell_type": "code",
   "execution_count": 44,
   "id": "016bc421",
   "metadata": {},
   "outputs": [],
   "source": [
    "# import libraries\n",
    "\n",
    "from langchain.document_loaders.csv_loader import CSVLoader\n",
    "from langchain.embeddings.openai import OpenAIEmbeddings\n",
    "from langchain.llms import OpenAI\n",
    "from langchain.text_splitter import CharacterTextSplitter\n",
    "from langchain.vectorstores import Chroma\n",
    "from langchain.chains import RetrievalQA\n",
    "from langchain.prompts import PromptTemplate\n",
    "from langchain import LLMChain\n",
    "from langchain.chains.question_answering import load_qa_chain\n",
    "from langchain.memory import ConversationSummaryMemory, ConversationBufferMemory, CombinedMemory, ChatMessageHistory\n",
    "from langchain.llms import OpenAI\n",
    "from langchain.embeddings import OpenAIEmbeddings\n",
    "from langchain.evaluation import load_evaluator\n",
    "from langchain.text_splitter import RecursiveCharacterTextSplitter\n",
    "from langchain.schema import Document\n",
    "from langchain.vectorstores.chroma import Chroma\n",
    "from langchain.chat_models import ChatOpenAI\n",
    "from langchain.prompts import ChatPromptTemplate\n",
    "from langchain.output_parsers import PydanticOutputParser\n",
    "from langchain.prompts import PromptTemplate\n",
    "from langchain.chains import ConversationChain"
   ]
  },
  {
   "cell_type": "code",
   "execution_count": null,
   "id": "9878ab03",
   "metadata": {},
   "outputs": [],
   "source": []
  },
  {
   "cell_type": "markdown",
   "id": "e3d18c52",
   "metadata": {},
   "source": [
    "# Setting Up the Python Application"
   ]
  },
  {
   "cell_type": "code",
   "execution_count": 45,
   "id": "491cf6f4",
   "metadata": {},
   "outputs": [
    {
     "name": "stdout",
     "output_type": "stream",
     "text": [
      "HomeMatch.ipynb  HomeMatch.py  home.csv  requirements.txt\r\n"
     ]
    }
   ],
   "source": [
    "!ls"
   ]
  },
  {
   "cell_type": "code",
   "execution_count": 46,
   "id": "84806dbf",
   "metadata": {},
   "outputs": [
    {
     "name": "stdout",
     "output_type": "stream",
     "text": [
      "Defaulting to user installation because normal site-packages is not writeable\n",
      "Requirement already satisfied: langchain==0.0.305 in /opt/conda/lib/python3.10/site-packages (from -r requirements.txt (line 2)) (0.0.305)\n",
      "Requirement already satisfied: openai==0.28.1 in /opt/conda/lib/python3.10/site-packages (from -r requirements.txt (line 3)) (0.28.1)\n",
      "Requirement already satisfied: pydantic>=1.10.12 in /opt/conda/lib/python3.10/site-packages (from -r requirements.txt (line 4)) (1.10.12)\n",
      "Requirement already satisfied: pytest>=7.4.0 in /opt/conda/lib/python3.10/site-packages (from -r requirements.txt (line 5)) (7.4.0)\n",
      "Requirement already satisfied: sentence-transformers>=2.2.0 in /opt/conda/lib/python3.10/site-packages (from -r requirements.txt (line 6)) (2.2.0)\n",
      "Requirement already satisfied: transformers>=4.31.0 in /opt/conda/lib/python3.10/site-packages (from -r requirements.txt (line 7)) (4.31.0)\n",
      "Requirement already satisfied: chromadb==0.4.12 in /opt/conda/lib/python3.10/site-packages (from -r requirements.txt (line 8)) (0.4.12)\n",
      "Requirement already satisfied: jupyter==1.0.0 in /opt/conda/lib/python3.10/site-packages (from -r requirements.txt (line 9)) (1.0.0)\n",
      "Requirement already satisfied: tiktoken==0.4.0 in /opt/conda/lib/python3.10/site-packages (from -r requirements.txt (line 10)) (0.4.0)\n",
      "Requirement already satisfied: numexpr<3.0.0,>=2.8.4 in /opt/conda/lib/python3.10/site-packages (from langchain==0.0.305->-r requirements.txt (line 2)) (2.10.0)\n",
      "Requirement already satisfied: requests<3,>=2 in /opt/conda/lib/python3.10/site-packages (from langchain==0.0.305->-r requirements.txt (line 2)) (2.29.0)\n",
      "Requirement already satisfied: async-timeout<5.0.0,>=4.0.0 in /opt/conda/lib/python3.10/site-packages (from langchain==0.0.305->-r requirements.txt (line 2)) (4.0.3)\n",
      "Requirement already satisfied: langsmith<0.1.0,>=0.0.38 in /opt/conda/lib/python3.10/site-packages (from langchain==0.0.305->-r requirements.txt (line 2)) (0.0.92)\n",
      "Requirement already satisfied: anyio<4.0 in /opt/conda/lib/python3.10/site-packages (from langchain==0.0.305->-r requirements.txt (line 2)) (3.7.1)\n",
      "Requirement already satisfied: PyYAML>=5.3 in /opt/conda/lib/python3.10/site-packages (from langchain==0.0.305->-r requirements.txt (line 2)) (6.0)\n",
      "Requirement already satisfied: dataclasses-json<0.7,>=0.5.7 in /opt/conda/lib/python3.10/site-packages (from langchain==0.0.305->-r requirements.txt (line 2)) (0.6.6)\n",
      "Requirement already satisfied: tenacity<9.0.0,>=8.1.0 in /opt/conda/lib/python3.10/site-packages (from langchain==0.0.305->-r requirements.txt (line 2)) (8.3.0)\n",
      "Requirement already satisfied: numpy<2,>=1 in /opt/conda/lib/python3.10/site-packages (from langchain==0.0.305->-r requirements.txt (line 2)) (1.24.3)\n",
      "Requirement already satisfied: aiohttp<4.0.0,>=3.8.3 in /opt/conda/lib/python3.10/site-packages (from langchain==0.0.305->-r requirements.txt (line 2)) (3.9.5)\n",
      "Requirement already satisfied: SQLAlchemy<3,>=1.4 in /opt/conda/lib/python3.10/site-packages (from langchain==0.0.305->-r requirements.txt (line 2)) (2.0.30)\n",
      "Requirement already satisfied: jsonpatch<2.0,>=1.33 in /opt/conda/lib/python3.10/site-packages (from langchain==0.0.305->-r requirements.txt (line 2)) (1.33)\n",
      "Requirement already satisfied: tqdm in /opt/conda/lib/python3.10/site-packages (from openai==0.28.1->-r requirements.txt (line 3)) (4.65.0)\n",
      "Requirement already satisfied: pulsar-client>=3.1.0 in /opt/conda/lib/python3.10/site-packages (from chromadb==0.4.12->-r requirements.txt (line 8)) (3.5.0)\n",
      "Requirement already satisfied: chroma-hnswlib==0.7.3 in /opt/conda/lib/python3.10/site-packages (from chromadb==0.4.12->-r requirements.txt (line 8)) (0.7.3)\n",
      "Requirement already satisfied: uvicorn[standard]>=0.18.3 in /opt/conda/lib/python3.10/site-packages (from chromadb==0.4.12->-r requirements.txt (line 8)) (0.29.0)\n",
      "Requirement already satisfied: typer>=0.9.0 in /opt/conda/lib/python3.10/site-packages (from chromadb==0.4.12->-r requirements.txt (line 8)) (0.12.3)\n",
      "Requirement already satisfied: fastapi<0.100.0,>=0.95.2 in /opt/conda/lib/python3.10/site-packages (from chromadb==0.4.12->-r requirements.txt (line 8)) (0.99.1)\n",
      "Requirement already satisfied: typing-extensions>=4.5.0 in /opt/conda/lib/python3.10/site-packages (from chromadb==0.4.12->-r requirements.txt (line 8)) (4.11.0)\n",
      "Requirement already satisfied: onnxruntime>=1.14.1 in /opt/conda/lib/python3.10/site-packages (from chromadb==0.4.12->-r requirements.txt (line 8)) (1.18.0)\n",
      "Requirement already satisfied: tokenizers>=0.13.2 in /opt/conda/lib/python3.10/site-packages (from chromadb==0.4.12->-r requirements.txt (line 8)) (0.13.3)\n",
      "Requirement already satisfied: overrides>=7.3.1 in /opt/conda/lib/python3.10/site-packages (from chromadb==0.4.12->-r requirements.txt (line 8)) (7.7.0)\n",
      "Requirement already satisfied: bcrypt>=4.0.1 in /opt/conda/lib/python3.10/site-packages (from chromadb==0.4.12->-r requirements.txt (line 8)) (4.1.3)\n",
      "Requirement already satisfied: pypika>=0.48.9 in /opt/conda/lib/python3.10/site-packages (from chromadb==0.4.12->-r requirements.txt (line 8)) (0.48.9)\n",
      "Requirement already satisfied: importlib-resources in /opt/conda/lib/python3.10/site-packages (from chromadb==0.4.12->-r requirements.txt (line 8)) (6.4.0)\n",
      "Requirement already satisfied: posthog>=2.4.0 in /opt/conda/lib/python3.10/site-packages (from chromadb==0.4.12->-r requirements.txt (line 8)) (3.5.0)\n",
      "Requirement already satisfied: notebook in /opt/conda/lib/python3.10/site-packages (from jupyter==1.0.0->-r requirements.txt (line 9)) (6.5.6)\n",
      "Requirement already satisfied: jupyter-console in /opt/conda/lib/python3.10/site-packages (from jupyter==1.0.0->-r requirements.txt (line 9)) (6.6.3)\n",
      "Requirement already satisfied: ipykernel in /opt/conda/lib/python3.10/site-packages (from jupyter==1.0.0->-r requirements.txt (line 9)) (6.29.4)\n",
      "Requirement already satisfied: qtconsole in /opt/conda/lib/python3.10/site-packages (from jupyter==1.0.0->-r requirements.txt (line 9)) (5.5.2)\n",
      "Requirement already satisfied: nbconvert in /opt/conda/lib/python3.10/site-packages (from jupyter==1.0.0->-r requirements.txt (line 9)) (7.16.4)\n",
      "Requirement already satisfied: ipywidgets in /opt/conda/lib/python3.10/site-packages (from jupyter==1.0.0->-r requirements.txt (line 9)) (8.1.2)\n",
      "Requirement already satisfied: regex>=2022.1.18 in /opt/conda/lib/python3.10/site-packages (from tiktoken==0.4.0->-r requirements.txt (line 10)) (2024.5.15)\n",
      "Requirement already satisfied: exceptiongroup>=1.0.0rc8 in /opt/conda/lib/python3.10/site-packages (from pytest>=7.4.0->-r requirements.txt (line 5)) (1.1.1)\n",
      "Requirement already satisfied: pluggy<2.0,>=0.12 in /opt/conda/lib/python3.10/site-packages (from pytest>=7.4.0->-r requirements.txt (line 5)) (1.0.0)\n",
      "Requirement already satisfied: packaging in /opt/conda/lib/python3.10/site-packages (from pytest>=7.4.0->-r requirements.txt (line 5)) (23.0)\n",
      "Requirement already satisfied: iniconfig in /opt/conda/lib/python3.10/site-packages (from pytest>=7.4.0->-r requirements.txt (line 5)) (2.0.0)\n",
      "Requirement already satisfied: tomli>=1.0.0 in /opt/conda/lib/python3.10/site-packages (from pytest>=7.4.0->-r requirements.txt (line 5)) (2.0.1)\n",
      "Requirement already satisfied: sentencepiece in /opt/conda/lib/python3.10/site-packages (from sentence-transformers>=2.2.0->-r requirements.txt (line 6)) (0.2.0)\n",
      "Requirement already satisfied: scikit-learn in /opt/conda/lib/python3.10/site-packages (from sentence-transformers>=2.2.0->-r requirements.txt (line 6)) (1.4.2)\n",
      "Requirement already satisfied: torchvision in /opt/conda/lib/python3.10/site-packages (from sentence-transformers>=2.2.0->-r requirements.txt (line 6)) (0.15.2)\n",
      "Requirement already satisfied: torch>=1.6.0 in /opt/conda/lib/python3.10/site-packages (from sentence-transformers>=2.2.0->-r requirements.txt (line 6)) (2.0.1)\n",
      "Requirement already satisfied: scipy in /opt/conda/lib/python3.10/site-packages (from sentence-transformers>=2.2.0->-r requirements.txt (line 6)) (1.13.0)\n",
      "Requirement already satisfied: nltk in /opt/conda/lib/python3.10/site-packages (from sentence-transformers>=2.2.0->-r requirements.txt (line 6)) (3.8.1)\n",
      "Requirement already satisfied: huggingface-hub in /opt/conda/lib/python3.10/site-packages (from sentence-transformers>=2.2.0->-r requirements.txt (line 6)) (0.23.0)\n"
     ]
    },
    {
     "name": "stdout",
     "output_type": "stream",
     "text": [
      "Requirement already satisfied: safetensors>=0.3.1 in /opt/conda/lib/python3.10/site-packages (from transformers>=4.31.0->-r requirements.txt (line 7)) (0.4.3)\n",
      "Requirement already satisfied: filelock in /opt/conda/lib/python3.10/site-packages (from transformers>=4.31.0->-r requirements.txt (line 7)) (3.9.0)\n",
      "Requirement already satisfied: multidict<7.0,>=4.5 in /opt/conda/lib/python3.10/site-packages (from aiohttp<4.0.0,>=3.8.3->langchain==0.0.305->-r requirements.txt (line 2)) (6.0.5)\n",
      "Requirement already satisfied: frozenlist>=1.1.1 in /opt/conda/lib/python3.10/site-packages (from aiohttp<4.0.0,>=3.8.3->langchain==0.0.305->-r requirements.txt (line 2)) (1.4.1)\n",
      "Requirement already satisfied: aiosignal>=1.1.2 in /opt/conda/lib/python3.10/site-packages (from aiohttp<4.0.0,>=3.8.3->langchain==0.0.305->-r requirements.txt (line 2)) (1.3.1)\n",
      "Requirement already satisfied: attrs>=17.3.0 in /opt/conda/lib/python3.10/site-packages (from aiohttp<4.0.0,>=3.8.3->langchain==0.0.305->-r requirements.txt (line 2)) (23.1.0)\n",
      "Requirement already satisfied: yarl<2.0,>=1.0 in /opt/conda/lib/python3.10/site-packages (from aiohttp<4.0.0,>=3.8.3->langchain==0.0.305->-r requirements.txt (line 2)) (1.9.4)\n",
      "Requirement already satisfied: sniffio>=1.1 in /opt/conda/lib/python3.10/site-packages (from anyio<4.0->langchain==0.0.305->-r requirements.txt (line 2)) (1.3.1)\n",
      "Requirement already satisfied: idna>=2.8 in /opt/conda/lib/python3.10/site-packages (from anyio<4.0->langchain==0.0.305->-r requirements.txt (line 2)) (3.4)\n",
      "Requirement already satisfied: typing-inspect<1,>=0.4.0 in /opt/conda/lib/python3.10/site-packages (from dataclasses-json<0.7,>=0.5.7->langchain==0.0.305->-r requirements.txt (line 2)) (0.9.0)\n",
      "Requirement already satisfied: marshmallow<4.0.0,>=3.18.0 in /opt/conda/lib/python3.10/site-packages (from dataclasses-json<0.7,>=0.5.7->langchain==0.0.305->-r requirements.txt (line 2)) (3.21.2)\n",
      "Requirement already satisfied: starlette<0.28.0,>=0.27.0 in /opt/conda/lib/python3.10/site-packages (from fastapi<0.100.0,>=0.95.2->chromadb==0.4.12->-r requirements.txt (line 8)) (0.27.0)\n",
      "Requirement already satisfied: fsspec>=2023.5.0 in /opt/conda/lib/python3.10/site-packages (from huggingface-hub->sentence-transformers>=2.2.0->-r requirements.txt (line 6)) (2024.5.0)\n",
      "Requirement already satisfied: jsonpointer>=1.9 in /opt/conda/lib/python3.10/site-packages (from jsonpatch<2.0,>=1.33->langchain==0.0.305->-r requirements.txt (line 2)) (2.1)\n",
      "Requirement already satisfied: coloredlogs in /opt/conda/lib/python3.10/site-packages (from onnxruntime>=1.14.1->chromadb==0.4.12->-r requirements.txt (line 8)) (15.0.1)\n",
      "Requirement already satisfied: flatbuffers in /opt/conda/lib/python3.10/site-packages (from onnxruntime>=1.14.1->chromadb==0.4.12->-r requirements.txt (line 8)) (24.3.25)\n",
      "Requirement already satisfied: protobuf in /opt/conda/lib/python3.10/site-packages (from onnxruntime>=1.14.1->chromadb==0.4.12->-r requirements.txt (line 8)) (5.26.1)\n",
      "Requirement already satisfied: sympy in /opt/conda/lib/python3.10/site-packages (from onnxruntime>=1.14.1->chromadb==0.4.12->-r requirements.txt (line 8)) (1.12)\n",
      "Requirement already satisfied: monotonic>=1.5 in /opt/conda/lib/python3.10/site-packages (from posthog>=2.4.0->chromadb==0.4.12->-r requirements.txt (line 8)) (1.6)\n",
      "Requirement already satisfied: backoff>=1.10.0 in /opt/conda/lib/python3.10/site-packages (from posthog>=2.4.0->chromadb==0.4.12->-r requirements.txt (line 8)) (2.2.1)\n",
      "Requirement already satisfied: six>=1.5 in /opt/conda/lib/python3.10/site-packages (from posthog>=2.4.0->chromadb==0.4.12->-r requirements.txt (line 8)) (1.16.0)\n",
      "Requirement already satisfied: python-dateutil>2.1 in /opt/conda/lib/python3.10/site-packages (from posthog>=2.4.0->chromadb==0.4.12->-r requirements.txt (line 8)) (2.9.0.post0)\n",
      "Requirement already satisfied: certifi in /opt/conda/lib/python3.10/site-packages (from pulsar-client>=3.1.0->chromadb==0.4.12->-r requirements.txt (line 8)) (2023.5.7)\n",
      "Requirement already satisfied: urllib3<1.27,>=1.21.1 in /opt/conda/lib/python3.10/site-packages (from requests<3,>=2->langchain==0.0.305->-r requirements.txt (line 2)) (1.26.15)\n",
      "Requirement already satisfied: charset-normalizer<4,>=2 in /opt/conda/lib/python3.10/site-packages (from requests<3,>=2->langchain==0.0.305->-r requirements.txt (line 2)) (2.0.4)\n",
      "Requirement already satisfied: greenlet!=0.4.17 in /opt/conda/lib/python3.10/site-packages (from SQLAlchemy<3,>=1.4->langchain==0.0.305->-r requirements.txt (line 2)) (3.0.3)\n",
      "Requirement already satisfied: networkx in /opt/conda/lib/python3.10/site-packages (from torch>=1.6.0->sentence-transformers>=2.2.0->-r requirements.txt (line 6)) (3.1)\n",
      "Requirement already satisfied: jinja2 in /opt/conda/lib/python3.10/site-packages (from torch>=1.6.0->sentence-transformers>=2.2.0->-r requirements.txt (line 6)) (3.1.2)\n",
      "Requirement already satisfied: rich>=10.11.0 in /opt/conda/lib/python3.10/site-packages (from typer>=0.9.0->chromadb==0.4.12->-r requirements.txt (line 8)) (13.7.1)\n",
      "Requirement already satisfied: click>=8.0.0 in /opt/conda/lib/python3.10/site-packages (from typer>=0.9.0->chromadb==0.4.12->-r requirements.txt (line 8)) (8.1.7)\n",
      "Requirement already satisfied: shellingham>=1.3.0 in /opt/conda/lib/python3.10/site-packages (from typer>=0.9.0->chromadb==0.4.12->-r requirements.txt (line 8)) (1.5.4)\n",
      "Requirement already satisfied: h11>=0.8 in /opt/conda/lib/python3.10/site-packages (from uvicorn[standard]>=0.18.3->chromadb==0.4.12->-r requirements.txt (line 8)) (0.14.0)\n",
      "Requirement already satisfied: python-dotenv>=0.13 in /opt/conda/lib/python3.10/site-packages (from uvicorn[standard]>=0.18.3->chromadb==0.4.12->-r requirements.txt (line 8)) (1.0.1)\n",
      "Requirement already satisfied: websockets>=10.4 in /opt/conda/lib/python3.10/site-packages (from uvicorn[standard]>=0.18.3->chromadb==0.4.12->-r requirements.txt (line 8)) (12.0)\n",
      "Requirement already satisfied: uvloop!=0.15.0,!=0.15.1,>=0.14.0 in /opt/conda/lib/python3.10/site-packages (from uvicorn[standard]>=0.18.3->chromadb==0.4.12->-r requirements.txt (line 8)) (0.19.0)\n",
      "Requirement already satisfied: httptools>=0.5.0 in /opt/conda/lib/python3.10/site-packages (from uvicorn[standard]>=0.18.3->chromadb==0.4.12->-r requirements.txt (line 8)) (0.6.1)\n",
      "Requirement already satisfied: watchfiles>=0.13 in /opt/conda/lib/python3.10/site-packages (from uvicorn[standard]>=0.18.3->chromadb==0.4.12->-r requirements.txt (line 8)) (0.21.0)\n",
      "Requirement already satisfied: matplotlib-inline>=0.1 in /opt/conda/lib/python3.10/site-packages (from ipykernel->jupyter==1.0.0->-r requirements.txt (line 9)) (0.1.6)\n",
      "Requirement already satisfied: nest-asyncio in /opt/conda/lib/python3.10/site-packages (from ipykernel->jupyter==1.0.0->-r requirements.txt (line 9)) (1.6.0)\n",
      "Requirement already satisfied: ipython>=7.23.1 in /opt/conda/lib/python3.10/site-packages (from ipykernel->jupyter==1.0.0->-r requirements.txt (line 9)) (8.12.0)\n",
      "Requirement already satisfied: traitlets>=5.4.0 in /opt/conda/lib/python3.10/site-packages (from ipykernel->jupyter==1.0.0->-r requirements.txt (line 9)) (5.7.1)\n",
      "Requirement already satisfied: psutil in /opt/conda/lib/python3.10/site-packages (from ipykernel->jupyter==1.0.0->-r requirements.txt (line 9)) (5.9.0)\n",
      "Requirement already satisfied: pyzmq>=24 in /opt/conda/lib/python3.10/site-packages (from ipykernel->jupyter==1.0.0->-r requirements.txt (line 9)) (24.0.1)\n",
      "Requirement already satisfied: jupyter-client>=6.1.12 in /opt/conda/lib/python3.10/site-packages (from ipykernel->jupyter==1.0.0->-r requirements.txt (line 9)) (7.4.9)\n",
      "Requirement already satisfied: debugpy>=1.6.5 in /opt/conda/lib/python3.10/site-packages (from ipykernel->jupyter==1.0.0->-r requirements.txt (line 9)) (1.8.1)\n",
      "Requirement already satisfied: jupyter-core!=5.0.*,>=4.12 in /opt/conda/lib/python3.10/site-packages (from ipykernel->jupyter==1.0.0->-r requirements.txt (line 9)) (5.7.2)\n",
      "Requirement already satisfied: comm>=0.1.1 in /opt/conda/lib/python3.10/site-packages (from ipykernel->jupyter==1.0.0->-r requirements.txt (line 9)) (0.2.2)\n",
      "Requirement already satisfied: tornado>=6.1 in /opt/conda/lib/python3.10/site-packages (from ipykernel->jupyter==1.0.0->-r requirements.txt (line 9)) (6.4)\n",
      "Requirement already satisfied: jupyterlab-widgets~=3.0.10 in /opt/conda/lib/python3.10/site-packages (from ipywidgets->jupyter==1.0.0->-r requirements.txt (line 9)) (3.0.10)\n",
      "Requirement already satisfied: widgetsnbextension~=4.0.10 in /opt/conda/lib/python3.10/site-packages (from ipywidgets->jupyter==1.0.0->-r requirements.txt (line 9)) (4.0.10)\n"
     ]
    },
    {
     "name": "stdout",
     "output_type": "stream",
     "text": [
      "Requirement already satisfied: prompt-toolkit>=3.0.30 in /opt/conda/lib/python3.10/site-packages (from jupyter-console->jupyter==1.0.0->-r requirements.txt (line 9)) (3.0.36)\n",
      "Requirement already satisfied: pygments in /opt/conda/lib/python3.10/site-packages (from jupyter-console->jupyter==1.0.0->-r requirements.txt (line 9)) (2.15.1)\n",
      "Requirement already satisfied: nbformat>=5.7 in /opt/conda/lib/python3.10/site-packages (from nbconvert->jupyter==1.0.0->-r requirements.txt (line 9)) (5.10.4)\n",
      "Requirement already satisfied: beautifulsoup4 in /opt/conda/lib/python3.10/site-packages (from nbconvert->jupyter==1.0.0->-r requirements.txt (line 9)) (4.12.2)\n",
      "Requirement already satisfied: markupsafe>=2.0 in /opt/conda/lib/python3.10/site-packages (from nbconvert->jupyter==1.0.0->-r requirements.txt (line 9)) (2.1.1)\n",
      "Requirement already satisfied: defusedxml in /opt/conda/lib/python3.10/site-packages (from nbconvert->jupyter==1.0.0->-r requirements.txt (line 9)) (0.7.1)\n",
      "Requirement already satisfied: pandocfilters>=1.4.1 in /opt/conda/lib/python3.10/site-packages (from nbconvert->jupyter==1.0.0->-r requirements.txt (line 9)) (1.5.1)\n",
      "Requirement already satisfied: nbclient>=0.5.0 in /opt/conda/lib/python3.10/site-packages (from nbconvert->jupyter==1.0.0->-r requirements.txt (line 9)) (0.10.0)\n",
      "Requirement already satisfied: mistune<4,>=2.0.3 in /opt/conda/lib/python3.10/site-packages (from nbconvert->jupyter==1.0.0->-r requirements.txt (line 9)) (3.0.2)\n",
      "Requirement already satisfied: bleach!=5.0.0 in /opt/conda/lib/python3.10/site-packages (from nbconvert->jupyter==1.0.0->-r requirements.txt (line 9)) (6.1.0)\n",
      "Requirement already satisfied: jupyterlab-pygments in /opt/conda/lib/python3.10/site-packages (from nbconvert->jupyter==1.0.0->-r requirements.txt (line 9)) (0.3.0)\n",
      "Requirement already satisfied: tinycss2 in /opt/conda/lib/python3.10/site-packages (from nbconvert->jupyter==1.0.0->-r requirements.txt (line 9)) (1.3.0)\n",
      "Requirement already satisfied: joblib in /opt/conda/lib/python3.10/site-packages (from nltk->sentence-transformers>=2.2.0->-r requirements.txt (line 6)) (1.4.2)\n",
      "Requirement already satisfied: Send2Trash>=1.8.0 in /opt/conda/lib/python3.10/site-packages (from notebook->jupyter==1.0.0->-r requirements.txt (line 9)) (1.8.3)\n",
      "Requirement already satisfied: argon2-cffi in /opt/conda/lib/python3.10/site-packages (from notebook->jupyter==1.0.0->-r requirements.txt (line 9)) (23.1.0)\n",
      "Requirement already satisfied: prometheus-client in /opt/conda/lib/python3.10/site-packages (from notebook->jupyter==1.0.0->-r requirements.txt (line 9)) (0.20.0)\n",
      "Requirement already satisfied: nbclassic>=0.4.7 in /opt/conda/lib/python3.10/site-packages (from notebook->jupyter==1.0.0->-r requirements.txt (line 9)) (1.0.0)\n",
      "Requirement already satisfied: ipython-genutils in /opt/conda/lib/python3.10/site-packages (from notebook->jupyter==1.0.0->-r requirements.txt (line 9)) (0.2.0)\n",
      "Requirement already satisfied: terminado>=0.8.3 in /opt/conda/lib/python3.10/site-packages (from notebook->jupyter==1.0.0->-r requirements.txt (line 9)) (0.18.1)\n",
      "Requirement already satisfied: qtpy>=2.4.0 in /opt/conda/lib/python3.10/site-packages (from qtconsole->jupyter==1.0.0->-r requirements.txt (line 9)) (2.4.1)\n",
      "Requirement already satisfied: threadpoolctl>=2.0.0 in /opt/conda/lib/python3.10/site-packages (from scikit-learn->sentence-transformers>=2.2.0->-r requirements.txt (line 6)) (3.5.0)\n",
      "Requirement already satisfied: pillow!=8.3.*,>=5.3.0 in /opt/conda/lib/python3.10/site-packages (from torchvision->sentence-transformers>=2.2.0->-r requirements.txt (line 6)) (9.4.0)\n",
      "Requirement already satisfied: webencodings in /opt/conda/lib/python3.10/site-packages (from bleach!=5.0.0->nbconvert->jupyter==1.0.0->-r requirements.txt (line 9)) (0.5.1)\n",
      "Requirement already satisfied: pickleshare in /opt/conda/lib/python3.10/site-packages (from ipython>=7.23.1->ipykernel->jupyter==1.0.0->-r requirements.txt (line 9)) (0.7.5)\n",
      "Requirement already satisfied: stack-data in /opt/conda/lib/python3.10/site-packages (from ipython>=7.23.1->ipykernel->jupyter==1.0.0->-r requirements.txt (line 9)) (0.2.0)\n",
      "Requirement already satisfied: pexpect>4.3 in /opt/conda/lib/python3.10/site-packages (from ipython>=7.23.1->ipykernel->jupyter==1.0.0->-r requirements.txt (line 9)) (4.8.0)\n",
      "Requirement already satisfied: jedi>=0.16 in /opt/conda/lib/python3.10/site-packages (from ipython>=7.23.1->ipykernel->jupyter==1.0.0->-r requirements.txt (line 9)) (0.18.1)\n",
      "Requirement already satisfied: backcall in /opt/conda/lib/python3.10/site-packages (from ipython>=7.23.1->ipykernel->jupyter==1.0.0->-r requirements.txt (line 9)) (0.2.0)\n",
      "Requirement already satisfied: decorator in /opt/conda/lib/python3.10/site-packages (from ipython>=7.23.1->ipykernel->jupyter==1.0.0->-r requirements.txt (line 9)) (5.1.1)\n",
      "Requirement already satisfied: entrypoints in /opt/conda/lib/python3.10/site-packages (from jupyter-client>=6.1.12->ipykernel->jupyter==1.0.0->-r requirements.txt (line 9)) (0.4)\n",
      "Requirement already satisfied: platformdirs>=2.5 in /opt/conda/lib/python3.10/site-packages (from jupyter-core!=5.0.*,>=4.12->ipykernel->jupyter==1.0.0->-r requirements.txt (line 9)) (4.2.2)\n",
      "Requirement already satisfied: notebook-shim>=0.2.3 in /opt/conda/lib/python3.10/site-packages (from nbclassic>=0.4.7->notebook->jupyter==1.0.0->-r requirements.txt (line 9)) (0.2.4)\n",
      "Requirement already satisfied: jupyter-server>=1.8 in /opt/conda/lib/python3.10/site-packages (from nbclassic>=0.4.7->notebook->jupyter==1.0.0->-r requirements.txt (line 9)) (2.14.0)\n",
      "Requirement already satisfied: fastjsonschema>=2.15 in /opt/conda/lib/python3.10/site-packages (from nbformat>=5.7->nbconvert->jupyter==1.0.0->-r requirements.txt (line 9)) (2.19.1)\n",
      "Requirement already satisfied: jsonschema>=2.6 in /opt/conda/lib/python3.10/site-packages (from nbformat>=5.7->nbconvert->jupyter==1.0.0->-r requirements.txt (line 9)) (4.22.0)\n",
      "Requirement already satisfied: wcwidth in /opt/conda/lib/python3.10/site-packages (from prompt-toolkit>=3.0.30->jupyter-console->jupyter==1.0.0->-r requirements.txt (line 9)) (0.2.5)\n",
      "Requirement already satisfied: markdown-it-py>=2.2.0 in /opt/conda/lib/python3.10/site-packages (from rich>=10.11.0->typer>=0.9.0->chromadb==0.4.12->-r requirements.txt (line 8)) (3.0.0)\n",
      "Requirement already satisfied: ptyprocess in /opt/conda/lib/python3.10/site-packages (from terminado>=0.8.3->notebook->jupyter==1.0.0->-r requirements.txt (line 9)) (0.7.0)\n",
      "Requirement already satisfied: mypy-extensions>=0.3.0 in /opt/conda/lib/python3.10/site-packages (from typing-inspect<1,>=0.4.0->dataclasses-json<0.7,>=0.5.7->langchain==0.0.305->-r requirements.txt (line 2)) (1.0.0)\n",
      "Requirement already satisfied: argon2-cffi-bindings in /opt/conda/lib/python3.10/site-packages (from argon2-cffi->notebook->jupyter==1.0.0->-r requirements.txt (line 9)) (21.2.0)\n",
      "Requirement already satisfied: soupsieve>1.2 in /opt/conda/lib/python3.10/site-packages (from beautifulsoup4->nbconvert->jupyter==1.0.0->-r requirements.txt (line 9)) (2.4)\n",
      "Requirement already satisfied: humanfriendly>=9.1 in /opt/conda/lib/python3.10/site-packages (from coloredlogs->onnxruntime>=1.14.1->chromadb==0.4.12->-r requirements.txt (line 8)) (10.0)\n",
      "Requirement already satisfied: mpmath>=0.19 in /opt/conda/lib/python3.10/site-packages (from sympy->onnxruntime>=1.14.1->chromadb==0.4.12->-r requirements.txt (line 8)) (1.3.0)\n",
      "Requirement already satisfied: parso<0.9.0,>=0.8.0 in /opt/conda/lib/python3.10/site-packages (from jedi>=0.16->ipython>=7.23.1->ipykernel->jupyter==1.0.0->-r requirements.txt (line 9)) (0.8.3)\n",
      "Requirement already satisfied: rpds-py>=0.7.1 in /opt/conda/lib/python3.10/site-packages (from jsonschema>=2.6->nbformat>=5.7->nbconvert->jupyter==1.0.0->-r requirements.txt (line 9)) (0.18.1)\n",
      "Requirement already satisfied: jsonschema-specifications>=2023.03.6 in /opt/conda/lib/python3.10/site-packages (from jsonschema>=2.6->nbformat>=5.7->nbconvert->jupyter==1.0.0->-r requirements.txt (line 9)) (2023.12.1)\n",
      "Requirement already satisfied: referencing>=0.28.4 in /opt/conda/lib/python3.10/site-packages (from jsonschema>=2.6->nbformat>=5.7->nbconvert->jupyter==1.0.0->-r requirements.txt (line 9)) (0.35.1)\n",
      "Requirement already satisfied: jupyter-server-terminals>=0.4.4 in /opt/conda/lib/python3.10/site-packages (from jupyter-server>=1.8->nbclassic>=0.4.7->notebook->jupyter==1.0.0->-r requirements.txt (line 9)) (0.5.3)\n"
     ]
    },
    {
     "name": "stdout",
     "output_type": "stream",
     "text": [
      "Requirement already satisfied: jupyter-events>=0.9.0 in /opt/conda/lib/python3.10/site-packages (from jupyter-server>=1.8->nbclassic>=0.4.7->notebook->jupyter==1.0.0->-r requirements.txt (line 9)) (0.10.0)\n",
      "Requirement already satisfied: websocket-client>=1.7 in /opt/conda/lib/python3.10/site-packages (from jupyter-server>=1.8->nbclassic>=0.4.7->notebook->jupyter==1.0.0->-r requirements.txt (line 9)) (1.8.0)\n",
      "Requirement already satisfied: mdurl~=0.1 in /opt/conda/lib/python3.10/site-packages (from markdown-it-py>=2.2.0->rich>=10.11.0->typer>=0.9.0->chromadb==0.4.12->-r requirements.txt (line 8)) (0.1.2)\n",
      "Requirement already satisfied: cffi>=1.0.1 in /opt/conda/lib/python3.10/site-packages (from argon2-cffi-bindings->argon2-cffi->notebook->jupyter==1.0.0->-r requirements.txt (line 9)) (1.15.1)\n",
      "Requirement already satisfied: pure-eval in /opt/conda/lib/python3.10/site-packages (from stack-data->ipython>=7.23.1->ipykernel->jupyter==1.0.0->-r requirements.txt (line 9)) (0.2.2)\n",
      "Requirement already satisfied: asttokens in /opt/conda/lib/python3.10/site-packages (from stack-data->ipython>=7.23.1->ipykernel->jupyter==1.0.0->-r requirements.txt (line 9)) (2.0.5)\n",
      "Requirement already satisfied: executing in /opt/conda/lib/python3.10/site-packages (from stack-data->ipython>=7.23.1->ipykernel->jupyter==1.0.0->-r requirements.txt (line 9)) (0.8.3)\n",
      "Requirement already satisfied: pycparser in /opt/conda/lib/python3.10/site-packages (from cffi>=1.0.1->argon2-cffi-bindings->argon2-cffi->notebook->jupyter==1.0.0->-r requirements.txt (line 9)) (2.21)\n",
      "Requirement already satisfied: rfc3986-validator>=0.1.1 in /opt/conda/lib/python3.10/site-packages (from jupyter-events>=0.9.0->jupyter-server>=1.8->nbclassic>=0.4.7->notebook->jupyter==1.0.0->-r requirements.txt (line 9)) (0.1.1)\n",
      "Requirement already satisfied: python-json-logger>=2.0.4 in /opt/conda/lib/python3.10/site-packages (from jupyter-events>=0.9.0->jupyter-server>=1.8->nbclassic>=0.4.7->notebook->jupyter==1.0.0->-r requirements.txt (line 9)) (2.0.7)\n",
      "Requirement already satisfied: rfc3339-validator in /opt/conda/lib/python3.10/site-packages (from jupyter-events>=0.9.0->jupyter-server>=1.8->nbclassic>=0.4.7->notebook->jupyter==1.0.0->-r requirements.txt (line 9)) (0.1.4)\n",
      "Requirement already satisfied: uri-template in /opt/conda/lib/python3.10/site-packages (from jsonschema>=2.6->nbformat>=5.7->nbconvert->jupyter==1.0.0->-r requirements.txt (line 9)) (1.3.0)\n",
      "Requirement already satisfied: isoduration in /opt/conda/lib/python3.10/site-packages (from jsonschema>=2.6->nbformat>=5.7->nbconvert->jupyter==1.0.0->-r requirements.txt (line 9)) (20.11.0)\n",
      "Requirement already satisfied: webcolors>=1.11 in /opt/conda/lib/python3.10/site-packages (from jsonschema>=2.6->nbformat>=5.7->nbconvert->jupyter==1.0.0->-r requirements.txt (line 9)) (1.13)\n",
      "Requirement already satisfied: fqdn in /opt/conda/lib/python3.10/site-packages (from jsonschema>=2.6->nbformat>=5.7->nbconvert->jupyter==1.0.0->-r requirements.txt (line 9)) (1.5.1)\n",
      "Requirement already satisfied: arrow>=0.15.0 in /opt/conda/lib/python3.10/site-packages (from isoduration->jsonschema>=2.6->nbformat>=5.7->nbconvert->jupyter==1.0.0->-r requirements.txt (line 9)) (1.3.0)\n",
      "Requirement already satisfied: types-python-dateutil>=2.8.10 in /opt/conda/lib/python3.10/site-packages (from arrow>=0.15.0->isoduration->jsonschema>=2.6->nbformat>=5.7->nbconvert->jupyter==1.0.0->-r requirements.txt (line 9)) (2.9.0.20240316)\n"
     ]
    }
   ],
   "source": [
    "!pip install -r requirements.txt"
   ]
  },
  {
   "cell_type": "code",
   "execution_count": 47,
   "id": "aebe7496",
   "metadata": {},
   "outputs": [],
   "source": [
    "# Import OpenAI library\n",
    "import openai\n",
    "# from openai.embeddings_utils import get_embedding\n",
    "# Set the base URL for the OpenAI API (Vocareum's endpoint)\n",
    "openai.api_base = \"https://openai.vocareum.com/v1\"\n",
    "# Set the API key (Needs to be provided for authentication)\n",
    "openai.api_key =  \"voc-1195158280126677390712267cecde3101f94.66438984\""
   ]
  },
  {
   "cell_type": "code",
   "execution_count": 66,
   "id": "4b8b87aa",
   "metadata": {},
   "outputs": [],
   "source": [
    "# Batch size and Model Name for processing\n",
    "BATCH_SIZE = 64\n",
    "model_name = 'gpt-3.5-turbo'\n"
   ]
  },
  {
   "cell_type": "code",
   "execution_count": 49,
   "id": "f35b42db",
   "metadata": {},
   "outputs": [],
   "source": [
    "prompt = '''\n",
    "Generate 10 real estate listings. Each listing should include:\n",
    "- Neighborhood\n",
    "- Price\n",
    "- Bedrooms\n",
    "- Bathrooms\n",
    "- House Size\n",
    "- Description\n",
    "- Neighborhood Description\n",
    "\n",
    "Follow the structure of this example:\n",
    "\n",
    "Neighborhood: Green Oaks\n",
    "Price: $800,000\n",
    "Bedrooms: 3\n",
    "Bathrooms: 2\n",
    "House Size: 2,000 sqft\n",
    "\n",
    "Description: Welcome to this eco-friendly oasis nestled in the heart of Green Oaks. This charming 3-bedroom, 2-bathroom home boasts energy-efficient features such as solar panels and a well-insulated structure. Natural light floods the living spaces, highlighting the beautiful hardwood floors and eco-conscious finishes. The open-concept kitchen and dining area lead to a spacious backyard with a vegetable garden, perfect for the eco-conscious family. Embrace sustainable living without compromising on style in this Green Oaks gem.\n",
    "\n",
    "Neighborhood Description: Green Oaks is a close-knit, environmentally-conscious community with access to organic grocery stores, community gardens, and bike paths. Take a stroll through the nearby Green Oaks Park or grab a cup of coffee at the cozy Green Bean Cafe. With easy access to public transportation and bike lanes, commuting is a breeze.\n",
    "\n",
    "Could you please generate it as comma sperated file as rows\n",
    "'''"
   ]
  },
  {
   "cell_type": "code",
   "execution_count": 50,
   "id": "988ae2c3",
   "metadata": {},
   "outputs": [],
   "source": [
    "response = openai.Completion.create(\n",
    "        model=COMPLETION_MODEL_NAME,\n",
    "        prompt=prompt,\n",
    "        max_tokens=244  \n",
    "    )"
   ]
  },
  {
   "cell_type": "code",
   "execution_count": 78,
   "id": "430774a1",
   "metadata": {},
   "outputs": [],
   "source": [
    "response = \"\"\"\n",
    "Neighborhood,Price,Bedrooms,Bathrooms,House Size,Description,Neighborhood Description\n",
    "Green Oaks,\"$800,000 \",3,2,\"2,000 sqft\",\"Welcome to this eco-friendly oasis nestled in the heart of Green Oaks. This charming 3-bedroom, 2-bathroom home boasts energy-efficient features such as solar panels and a well-insulated structure. Natural light floods the living spaces, highlighting the beautiful hardwood floors and eco-conscious finishes. The open-concept kitchen and dining area lead to a spacious backyard with a vegetable garden, perfect for the eco-conscious family.\",\"Green Oaks is a close-knit, environmentally-conscious community with access to organic grocery stores, community gardens, and bike paths. Take a stroll through the nearby Green Oaks Park or grab a cup of coffee at the cozy Green Bean Cafe. With easy access to public transportation and bike lanes, commuting is a breeze.\"\n",
    "Willow Creek,\"$925,000 \",4,3,\"2,700 sqft\",\"This spacious 4-bedroom, 3-bathroom home in Willow Creek is perfect for families seeking modern amenities and serene surroundings. With vaulted ceilings, a large open-concept kitchen, and a beautifully landscaped backyard, this home invites comfort and relaxation. The master suite includes a private balcony and a spa-inspired bath.\",\"Willow Creek is known for its scenic walking trails, family-friendly parks, and strong school system. The community is active and tight-knit, with regular events at the local community center and easy access to shopping and dining.\"\n",
    "Bayview Heights,\"$1,100,000 \",5,4,\"3,400 sqft\",\"Nestled on a hillside with panoramic ocean views, this 5-bedroom home in Bayview Heights offers luxury coastal living. Features include a chef's kitchen, hardwood flooring, and a spacious deck perfect for entertaining. Floor-to-ceiling windows bring in abundant natural light.\",\"Bayview Heights is a prestigious neighborhood offering breathtaking views, upscale amenities, and close proximity to beaches and marinas. The community is known for its peaceful vibe and scenic beauty.\"\n",
    "Elmwood Grove,\"$675,000 \",3,2,\"2,100 sqft\",\"This beautifully updated ranch-style home in Elmwood Grove combines charm and functionality. The open floor plan connects the living room, dining room, and kitchen, making it ideal for entertaining. A spacious backyard with a pergola completes the picture.\",\"Elmwood Grove is a quiet, leafy suburb with top-rated schools, cozy cafés, and local boutiques. Residents love the sense of community and access to green spaces.\"\n",
    "Stonebridge,\"$800,000 \",4,3,\"2,600 sqft\",\"Located in the heart of Stonebridge, this elegant 4-bedroom home offers modern comforts and classic appeal. Enjoy a gourmet kitchen with granite countertops, a formal dining room, and a finished basement ideal for a media room.\",\"Stonebridge offers the perfect balance of city access and suburban peace. Its tree-lined streets, excellent public transportation, and community events make it a top choice for families and professionals.\"\n",
    "Cedar Hills,\"$725,000 \",3,2.5,\"2,300 sqft\",\"This charming two-story home in Cedar Hills features a welcoming front porch, a large family room with a fireplace, and a bright kitchen with a breakfast nook. The backyard includes a firepit and patio, perfect for entertaining.\",\"Cedar Hills is a friendly and walkable neighborhood with top schools, neighborhood parks, and weekend farmers markets. It’s loved for its strong sense of community and natural surroundings.\"\n",
    "Lakeview Estates,\"$990,000 \",4,3.5,\"3,100 sqft\",\"Enjoy lakeside luxury in this beautifully designed 4-bedroom home in Lakeview Estates. With large windows showcasing water views, a modern kitchen, and a private dock, this home is an entertainer’s dream.\",\"Lakeview Estates is a peaceful and exclusive lakefront community. Residents enjoy boating, fishing, and walking along scenic trails. It’s ideal for those who love waterfront living and privacy.\"\n",
    "Maple Heights,\"$585,000 \",3,2,\"1,900 sqft\",\"Cozy yet stylish, this 3-bedroom bungalow in Maple Heights features a wood-burning fireplace, original hardwood floors, and a sun-drenched breakfast nook. The backyard garden adds charm and tranquility.\",Maple Heights is a historic neighborhood filled with character homes and mature trees. Its close-knit community hosts seasonal events and supports local businesses and artisans.\n",
    "Riverbend,\"$870,000 \",4,3,\"2,800 sqft\",\"Welcome to this modern 4-bedroom home in Riverbend. Features include an open floor plan, floor-to-ceiling windows, a gourmet kitchen, and a large deck that backs onto greenbelt space for added privacy.\",\"Riverbend is a nature-forward neighborhood with access to river trails, kayaking spots, and birdwatching areas. It appeals to active families and outdoor enthusiasts.\"\n",
    "Parkside Village,\"$760,000 \",3,2.5,\"2,400 sqft\",\"This stylish Parkside Village home offers open-concept living, an upstairs loft, and a large kitchen with a center island. The master suite features a walk-in closet and spa bathroom.\",\"Parkside Village is a modern community known for its beautiful parks, inclusive vibe, and weekend street markets. It's a popular spot for young professionals and growing families.\"\n",
    "Highland Meadows,\"$1,200,000 \",5,4,\"3,800 sqft\",\"This luxurious estate in Highland Meadows includes five bedrooms, a formal living and dining area, a home office, and a beautifully landscaped yard with a pool and hot tub. Perfect for elegant entertaining.\",\"Highland Meadows is an affluent neighborhood with manicured streets, private schools, and a country club. It's known for privacy, security, and high-end amenities.\"\n",
    "\"\"\""
   ]
  },
  {
   "cell_type": "code",
   "execution_count": 79,
   "id": "2bc8cfb2",
   "metadata": {},
   "outputs": [
    {
     "data": {
      "text/plain": [
       "'\\nNeighborhood,Price,Bedrooms,Bathrooms,House Size,Description,Neighborhood Description\\nGreen Oaks,\"$800,000 \",3,2,\"2,000 sqft\",\"Welcome to this eco-friendly oasis nestled in the heart of Green Oaks. This charming 3-bedroom, 2-bathroom home boasts energy-efficient features such as solar panels and a well-insulated structure. Natural light floods the living spaces, highlighting the beautiful hardwood floors and eco-conscious finishes. The open-concept kitchen and dining area lead to a spacious backyard with a vegetable garden, perfect for the eco-conscious family.\",\"Green Oaks is a close-knit, environmentally-conscious community with access to organic grocery stores, community gardens, and bike paths. Take a stroll through the nearby Green Oaks Park or grab a cup of coffee at the cozy Green Bean Cafe. With easy access to public transportation and bike lanes, commuting is a breeze.\"\\nWillow Creek,\"$925,000 \",4,3,\"2,700 sqft\",\"This spacious 4-bedroom, 3-bathroom home in Willow Creek is perfect for families seeking modern amenities and serene surroundings. With vaulted ceilings, a large open-concept kitchen, and a beautifully landscaped backyard, this home invites comfort and relaxation. The master suite includes a private balcony and a spa-inspired bath.\",\"Willow Creek is known for its scenic walking trails, family-friendly parks, and strong school system. The community is active and tight-knit, with regular events at the local community center and easy access to shopping and dining.\"\\nBayview Heights,\"$1,100,000 \",5,4,\"3,400 sqft\",\"Nestled on a hillside with panoramic ocean views, this 5-bedroom home in Bayview Heights offers luxury coastal living. Features include a chef\\'s kitchen, hardwood flooring, and a spacious deck perfect for entertaining. Floor-to-ceiling windows bring in abundant natural light.\",\"Bayview Heights is a prestigious neighborhood offering breathtaking views, upscale amenities, and close proximity to beaches and marinas. The community is known for its peaceful vibe and scenic beauty.\"\\nElmwood Grove,\"$675,000 \",3,2,\"2,100 sqft\",\"This beautifully updated ranch-style home in Elmwood Grove combines charm and functionality. The open floor plan connects the living room, dining room, and kitchen, making it ideal for entertaining. A spacious backyard with a pergola completes the picture.\",\"Elmwood Grove is a quiet, leafy suburb with top-rated schools, cozy cafés, and local boutiques. Residents love the sense of community and access to green spaces.\"\\nStonebridge,\"$800,000 \",4,3,\"2,600 sqft\",\"Located in the heart of Stonebridge, this elegant 4-bedroom home offers modern comforts and classic appeal. Enjoy a gourmet kitchen with granite countertops, a formal dining room, and a finished basement ideal for a media room.\",\"Stonebridge offers the perfect balance of city access and suburban peace. Its tree-lined streets, excellent public transportation, and community events make it a top choice for families and professionals.\"\\nCedar Hills,\"$725,000 \",3,2.5,\"2,300 sqft\",\"This charming two-story home in Cedar Hills features a welcoming front porch, a large family room with a fireplace, and a bright kitchen with a breakfast nook. The backyard includes a firepit and patio, perfect for entertaining.\",\"Cedar Hills is a friendly and walkable neighborhood with top schools, neighborhood parks, and weekend farmers markets. It’s loved for its strong sense of community and natural surroundings.\"\\nLakeview Estates,\"$990,000 \",4,3.5,\"3,100 sqft\",\"Enjoy lakeside luxury in this beautifully designed 4-bedroom home in Lakeview Estates. With large windows showcasing water views, a modern kitchen, and a private dock, this home is an entertainer’s dream.\",\"Lakeview Estates is a peaceful and exclusive lakefront community. Residents enjoy boating, fishing, and walking along scenic trails. It’s ideal for those who love waterfront living and privacy.\"\\nMaple Heights,\"$585,000 \",3,2,\"1,900 sqft\",\"Cozy yet stylish, this 3-bedroom bungalow in Maple Heights features a wood-burning fireplace, original hardwood floors, and a sun-drenched breakfast nook. The backyard garden adds charm and tranquility.\",Maple Heights is a historic neighborhood filled with character homes and mature trees. Its close-knit community hosts seasonal events and supports local businesses and artisans.\\nRiverbend,\"$870,000 \",4,3,\"2,800 sqft\",\"Welcome to this modern 4-bedroom home in Riverbend. Features include an open floor plan, floor-to-ceiling windows, a gourmet kitchen, and a large deck that backs onto greenbelt space for added privacy.\",\"Riverbend is a nature-forward neighborhood with access to river trails, kayaking spots, and birdwatching areas. It appeals to active families and outdoor enthusiasts.\"\\nParkside Village,\"$760,000 \",3,2.5,\"2,400 sqft\",\"This stylish Parkside Village home offers open-concept living, an upstairs loft, and a large kitchen with a center island. The master suite features a walk-in closet and spa bathroom.\",\"Parkside Village is a modern community known for its beautiful parks, inclusive vibe, and weekend street markets. It\\'s a popular spot for young professionals and growing families.\"\\nHighland Meadows,\"$1,200,000 \",5,4,\"3,800 sqft\",\"This luxurious estate in Highland Meadows includes five bedrooms, a formal living and dining area, a home office, and a beautifully landscaped yard with a pool and hot tub. Perfect for elegant entertaining.\",\"Highland Meadows is an affluent neighborhood with manicured streets, private schools, and a country club. It\\'s known for privacy, security, and high-end amenities.\"\\n'"
      ]
     },
     "execution_count": 79,
     "metadata": {},
     "output_type": "execute_result"
    }
   ],
   "source": [
    "mess = response['choice'][0]['message']"
   ]
  },
  {
   "cell_type": "code",
   "execution_count": 61,
   "id": "61dc52b0",
   "metadata": {},
   "outputs": [],
   "source": [
    "# The write csv text\n",
    "\n",
    "with open('dataset.csv', 'w') as f:\n",
    "    f.write(mess)"
   ]
  },
  {
   "cell_type": "code",
   "execution_count": 65,
   "id": "a575ff8b",
   "metadata": {},
   "outputs": [
    {
     "data": {
      "text/plain": [
       "[Document(page_content='Neighborhood: Green Oaks\\nPrice: $800,000\\nBedrooms: 3\\nBathrooms: 2\\nHouse Size: 2,000 sqft\\nDescription: Welcome to this eco-friendly oasis nestled in the heart of Green Oaks. This charming 3-bedroom, 2-bathroom home boasts energy-efficient features such as solar panels and a well-insulated structure. Natural light floods the living spaces, highlighting the beautiful hardwood floors and eco-conscious finishes. The open-concept kitchen and dining area lead to a spacious backyard with a vegetable garden, perfect for the eco-conscious family.\\nNeighborhood Description: Green Oaks is a close-knit, environmentally-conscious community with access to organic grocery stores, community gardens, and bike paths. Take a stroll through the nearby Green Oaks Park or grab a cup of coffee at the cozy Green Bean Cafe. With easy access to public transportation and bike lanes, commuting is a breeze.', metadata={'source': 'HOME.csv', 'row': 0}),\n",
       " Document(page_content='Neighborhood: Willow Creek\\nPrice: $925,000\\nBedrooms: 4\\nBathrooms: 3\\nHouse Size: 2,700 sqft\\nDescription: This spacious 4-bedroom, 3-bathroom home in Willow Creek is perfect for families seeking modern amenities and serene surroundings. With vaulted ceilings, a large open-concept kitchen, and a beautifully landscaped backyard, this home invites comfort and relaxation. The master suite includes a private balcony and a spa-inspired bath.\\nNeighborhood Description: Willow Creek is known for its scenic walking trails, family-friendly parks, and strong school system. The community is active and tight-knit, with regular events at the local community center and easy access to shopping and dining.', metadata={'source': 'HOME.csv', 'row': 1}),\n",
       " Document(page_content=\"Neighborhood: Bayview Heights\\nPrice: $1,100,000\\nBedrooms: 5\\nBathrooms: 4\\nHouse Size: 3,400 sqft\\nDescription: Nestled on a hillside with panoramic ocean views, this 5-bedroom home in Bayview Heights offers luxury coastal living. Features include a chef's kitchen, hardwood flooring, and a spacious deck perfect for entertaining. Floor-to-ceiling windows bring in abundant natural light.\\nNeighborhood Description: Bayview Heights is a prestigious neighborhood offering breathtaking views, upscale amenities, and close proximity to beaches and marinas. The community is known for its peaceful vibe and scenic beauty.\", metadata={'source': 'HOME.csv', 'row': 2}),\n",
       " Document(page_content='Neighborhood: Elmwood Grove\\nPrice: $675,000\\nBedrooms: 3\\nBathrooms: 2\\nHouse Size: 2,100 sqft\\nDescription: This beautifully updated ranch-style home in Elmwood Grove combines charm and functionality. The open floor plan connects the living room, dining room, and kitchen, making it ideal for entertaining. A spacious backyard with a pergola completes the picture.\\nNeighborhood Description: Elmwood Grove is a quiet, leafy suburb with top-rated schools, cozy cafés, and local boutiques. Residents love the sense of community and access to green spaces.', metadata={'source': 'HOME.csv', 'row': 3}),\n",
       " Document(page_content='Neighborhood: Stonebridge\\nPrice: $800,000\\nBedrooms: 4\\nBathrooms: 3\\nHouse Size: 2,600 sqft\\nDescription: Located in the heart of Stonebridge, this elegant 4-bedroom home offers modern comforts and classic appeal. Enjoy a gourmet kitchen with granite countertops, a formal dining room, and a finished basement ideal for a media room.\\nNeighborhood Description: Stonebridge offers the perfect balance of city access and suburban peace. Its tree-lined streets, excellent public transportation, and community events make it a top choice for families and professionals.', metadata={'source': 'HOME.csv', 'row': 4}),\n",
       " Document(page_content='Neighborhood: Cedar Hills\\nPrice: $725,000\\nBedrooms: 3\\nBathrooms: 2.5\\nHouse Size: 2,300 sqft\\nDescription: This charming two-story home in Cedar Hills features a welcoming front porch, a large family room with a fireplace, and a bright kitchen with a breakfast nook. The backyard includes a firepit and patio, perfect for entertaining.\\nNeighborhood Description: Cedar Hills is a friendly and walkable neighborhood with top schools, neighborhood parks, and weekend farmers markets. It’s loved for its strong sense of community and natural surroundings.', metadata={'source': 'HOME.csv', 'row': 5}),\n",
       " Document(page_content='Neighborhood: Lakeview Estates\\nPrice: $990,000\\nBedrooms: 4\\nBathrooms: 3.5\\nHouse Size: 3,100 sqft\\nDescription: Enjoy lakeside luxury in this beautifully designed 4-bedroom home in Lakeview Estates. With large windows showcasing water views, a modern kitchen, and a private dock, this home is an entertainer’s dream.\\nNeighborhood Description: Lakeview Estates is a peaceful and exclusive lakefront community. Residents enjoy boating, fishing, and walking along scenic trails. It’s ideal for those who love waterfront living and privacy.', metadata={'source': 'HOME.csv', 'row': 6}),\n",
       " Document(page_content='Neighborhood: Maple Heights\\nPrice: $585,000\\nBedrooms: 3\\nBathrooms: 2\\nHouse Size: 1,900 sqft\\nDescription: Cozy yet stylish, this 3-bedroom bungalow in Maple Heights features a wood-burning fireplace, original hardwood floors, and a sun-drenched breakfast nook. The backyard garden adds charm and tranquility.\\nNeighborhood Description: Maple Heights is a historic neighborhood filled with character homes and mature trees. Its close-knit community hosts seasonal events and supports local businesses and artisans.', metadata={'source': 'HOME.csv', 'row': 7}),\n",
       " Document(page_content='Neighborhood: Riverbend\\nPrice: $870,000\\nBedrooms: 4\\nBathrooms: 3\\nHouse Size: 2,800 sqft\\nDescription: Welcome to this modern 4-bedroom home in Riverbend. Features include an open floor plan, floor-to-ceiling windows, a gourmet kitchen, and a large deck that backs onto greenbelt space for added privacy.\\nNeighborhood Description: Riverbend is a nature-forward neighborhood with access to river trails, kayaking spots, and birdwatching areas. It appeals to active families and outdoor enthusiasts.', metadata={'source': 'HOME.csv', 'row': 8}),\n",
       " Document(page_content=\"Neighborhood: Parkside Village\\nPrice: $760,000\\nBedrooms: 3\\nBathrooms: 2.5\\nHouse Size: 2,400 sqft\\nDescription: This stylish Parkside Village home offers open-concept living, an upstairs loft, and a large kitchen with a center island. The master suite features a walk-in closet and spa bathroom.\\nNeighborhood Description: Parkside Village is a modern community known for its beautiful parks, inclusive vibe, and weekend street markets. It's a popular spot for young professionals and growing families.\", metadata={'source': 'HOME.csv', 'row': 9}),\n",
       " Document(page_content=\"Neighborhood: Highland Meadows\\nPrice: $1,200,000\\nBedrooms: 5\\nBathrooms: 4\\nHouse Size: 3,800 sqft\\nDescription: This luxurious estate in Highland Meadows includes five bedrooms, a formal living and dining area, a home office, and a beautifully landscaped yard with a pool and hot tub. Perfect for elegant entertaining.\\nNeighborhood Description: Highland Meadows is an affluent neighborhood with manicured streets, private schools, and a country club. It's known for privacy, security, and high-end amenities.\", metadata={'source': 'HOME.csv', 'row': 10})]"
      ]
     },
     "execution_count": 65,
     "metadata": {},
     "output_type": "execute_result"
    }
   ],
   "source": [
    "# read and load the csv file that store homes data\n",
    "loader = CSVLoader(file_path='dataset.csv')\n",
    "docs = loader.load()\n",
    "docs"
   ]
  },
  {
   "cell_type": "code",
   "execution_count": 68,
   "id": "f09c1535",
   "metadata": {},
   "outputs": [],
   "source": [
    "# Load documents\n",
    "llm = OpenAI(model_name=model_name, temperature=0, max_tokens=2000)\n"
   ]
  },
  {
   "cell_type": "code",
   "execution_count": 69,
   "id": "0858b90c",
   "metadata": {},
   "outputs": [
    {
     "data": {
      "text/plain": [
       "[Document(page_content='Neighborhood: Green Oaks\\nPrice: $800,000\\nBedrooms: 3\\nBathrooms: 2\\nHouse Size: 2,000 sqft\\nDescription: Welcome to this eco-friendly oasis nestled in the heart of Green Oaks. This charming 3-bedroom, 2-bathroom home boasts energy-efficient features such as solar panels and a well-insulated structure. Natural light floods the living spaces, highlighting the beautiful hardwood floors and eco-conscious finishes. The open-concept kitchen and dining area lead to a spacious backyard with a vegetable garden, perfect for the eco-conscious family.\\nNeighborhood Description: Green Oaks is a close-knit, environmentally-conscious community with access to organic grocery stores, community gardens, and bike paths. Take a stroll through the nearby Green Oaks Park or grab a cup of coffee at the cozy Green Bean Cafe. With easy access to public transportation and bike lanes, commuting is a breeze.', metadata={'source': 'HOME.csv', 'row': 0}),\n",
       " Document(page_content='Neighborhood: Willow Creek\\nPrice: $925,000\\nBedrooms: 4\\nBathrooms: 3\\nHouse Size: 2,700 sqft\\nDescription: This spacious 4-bedroom, 3-bathroom home in Willow Creek is perfect for families seeking modern amenities and serene surroundings. With vaulted ceilings, a large open-concept kitchen, and a beautifully landscaped backyard, this home invites comfort and relaxation. The master suite includes a private balcony and a spa-inspired bath.\\nNeighborhood Description: Willow Creek is known for its scenic walking trails, family-friendly parks, and strong school system. The community is active and tight-knit, with regular events at the local community center and easy access to shopping and dining.', metadata={'source': 'HOME.csv', 'row': 1}),\n",
       " Document(page_content=\"Neighborhood: Bayview Heights\\nPrice: $1,100,000\\nBedrooms: 5\\nBathrooms: 4\\nHouse Size: 3,400 sqft\\nDescription: Nestled on a hillside with panoramic ocean views, this 5-bedroom home in Bayview Heights offers luxury coastal living. Features include a chef's kitchen, hardwood flooring, and a spacious deck perfect for entertaining. Floor-to-ceiling windows bring in abundant natural light.\\nNeighborhood Description: Bayview Heights is a prestigious neighborhood offering breathtaking views, upscale amenities, and close proximity to beaches and marinas. The community is known for its peaceful vibe and scenic beauty.\", metadata={'source': 'HOME.csv', 'row': 2}),\n",
       " Document(page_content='Neighborhood: Elmwood Grove\\nPrice: $675,000\\nBedrooms: 3\\nBathrooms: 2\\nHouse Size: 2,100 sqft\\nDescription: This beautifully updated ranch-style home in Elmwood Grove combines charm and functionality. The open floor plan connects the living room, dining room, and kitchen, making it ideal for entertaining. A spacious backyard with a pergola completes the picture.\\nNeighborhood Description: Elmwood Grove is a quiet, leafy suburb with top-rated schools, cozy cafés, and local boutiques. Residents love the sense of community and access to green spaces.', metadata={'source': 'HOME.csv', 'row': 3}),\n",
       " Document(page_content='Neighborhood: Stonebridge\\nPrice: $800,000\\nBedrooms: 4\\nBathrooms: 3\\nHouse Size: 2,600 sqft\\nDescription: Located in the heart of Stonebridge, this elegant 4-bedroom home offers modern comforts and classic appeal. Enjoy a gourmet kitchen with granite countertops, a formal dining room, and a finished basement ideal for a media room.\\nNeighborhood Description: Stonebridge offers the perfect balance of city access and suburban peace. Its tree-lined streets, excellent public transportation, and community events make it a top choice for families and professionals.', metadata={'source': 'HOME.csv', 'row': 4}),\n",
       " Document(page_content='Neighborhood: Cedar Hills\\nPrice: $725,000\\nBedrooms: 3\\nBathrooms: 2.5\\nHouse Size: 2,300 sqft\\nDescription: This charming two-story home in Cedar Hills features a welcoming front porch, a large family room with a fireplace, and a bright kitchen with a breakfast nook. The backyard includes a firepit and patio, perfect for entertaining.\\nNeighborhood Description: Cedar Hills is a friendly and walkable neighborhood with top schools, neighborhood parks, and weekend farmers markets. It’s loved for its strong sense of community and natural surroundings.', metadata={'source': 'HOME.csv', 'row': 5}),\n",
       " Document(page_content='Neighborhood: Lakeview Estates\\nPrice: $990,000\\nBedrooms: 4\\nBathrooms: 3.5\\nHouse Size: 3,100 sqft\\nDescription: Enjoy lakeside luxury in this beautifully designed 4-bedroom home in Lakeview Estates. With large windows showcasing water views, a modern kitchen, and a private dock, this home is an entertainer’s dream.\\nNeighborhood Description: Lakeview Estates is a peaceful and exclusive lakefront community. Residents enjoy boating, fishing, and walking along scenic trails. It’s ideal for those who love waterfront living and privacy.', metadata={'source': 'HOME.csv', 'row': 6}),\n",
       " Document(page_content='Neighborhood: Maple Heights\\nPrice: $585,000\\nBedrooms: 3\\nBathrooms: 2\\nHouse Size: 1,900 sqft\\nDescription: Cozy yet stylish, this 3-bedroom bungalow in Maple Heights features a wood-burning fireplace, original hardwood floors, and a sun-drenched breakfast nook. The backyard garden adds charm and tranquility.\\nNeighborhood Description: Maple Heights is a historic neighborhood filled with character homes and mature trees. Its close-knit community hosts seasonal events and supports local businesses and artisans.', metadata={'source': 'HOME.csv', 'row': 7}),\n",
       " Document(page_content='Neighborhood: Riverbend\\nPrice: $870,000\\nBedrooms: 4\\nBathrooms: 3\\nHouse Size: 2,800 sqft\\nDescription: Welcome to this modern 4-bedroom home in Riverbend. Features include an open floor plan, floor-to-ceiling windows, a gourmet kitchen, and a large deck that backs onto greenbelt space for added privacy.\\nNeighborhood Description: Riverbend is a nature-forward neighborhood with access to river trails, kayaking spots, and birdwatching areas. It appeals to active families and outdoor enthusiasts.', metadata={'source': 'HOME.csv', 'row': 8}),\n",
       " Document(page_content=\"Neighborhood: Parkside Village\\nPrice: $760,000\\nBedrooms: 3\\nBathrooms: 2.5\\nHouse Size: 2,400 sqft\\nDescription: This stylish Parkside Village home offers open-concept living, an upstairs loft, and a large kitchen with a center island. The master suite features a walk-in closet and spa bathroom.\\nNeighborhood Description: Parkside Village is a modern community known for its beautiful parks, inclusive vibe, and weekend street markets. It's a popular spot for young professionals and growing families.\", metadata={'source': 'HOME.csv', 'row': 9}),\n",
       " Document(page_content=\"Neighborhood: Highland Meadows\\nPrice: $1,200,000\\nBedrooms: 5\\nBathrooms: 4\\nHouse Size: 3,800 sqft\\nDescription: This luxurious estate in Highland Meadows includes five bedrooms, a formal living and dining area, a home office, and a beautifully landscaped yard with a pool and hot tub. Perfect for elegant entertaining.\\nNeighborhood Description: Highland Meadows is an affluent neighborhood with manicured streets, private schools, and a country club. It's known for privacy, security, and high-end amenities.\", metadata={'source': 'HOME.csv', 'row': 10})]"
      ]
     },
     "execution_count": 69,
     "metadata": {},
     "output_type": "execute_result"
    }
   ],
   "source": [
    "# Use a Text Splitter to split the documents into chunks\n",
    "splitter = CharacterTextSplitter(chunk_size=1000, chunk_overlap=0)\n",
    "split_docs = splitter.split_documents(docs)\n",
    "split_docs"
   ]
  },
  {
   "cell_type": "code",
   "execution_count": 70,
   "id": "13dbb5ba",
   "metadata": {},
   "outputs": [],
   "source": [
    "# Populate the vector database with the chunks\n",
    "db = Chroma.from_documents(split_docs, embeddings)"
   ]
  },
  {
   "cell_type": "markdown",
   "id": "1021d2b0",
   "metadata": {},
   "source": [
    "# Building the User Preference Interface"
   ]
  },
  {
   "cell_type": "code",
   "execution_count": 71,
   "id": "74f69579",
   "metadata": {},
   "outputs": [],
   "source": [
    "# The buyer preferences in questions and answers example:\n",
    "\n",
    "questions = [   \n",
    "                \"How big do you want your house to be?\" \n",
    "                \"What are 3 most important things for you in choosing this property?\", \n",
    "                \"Which amenities would you like?\", \n",
    "                \"Which transportation options are important to you?\",\n",
    "                \"How urban do you want your neighborhood to be?\",   \n",
    "            ]\n",
    "\n",
    "answers = [\n",
    "    \"A comfortable three-bedroom house with a spacious kitchen and a cozy living room.\",\n",
    "    \"A quiet neighborhood, good local schools, and convenient shopping options.\",\n",
    "    \"A backyard for gardening, a two-car garage, and a modern, energy-efficient heating system.\",\n",
    "    \"Easy access to a reliable bus line, proximity to a major highway, and bike-friendly roads.\",\n",
    "    \"A balance between suburban tranquility and access to urban amenities like restaurants and theaters.\"\n",
    "]"
   ]
  },
  {
   "cell_type": "code",
   "execution_count": 72,
   "id": "68c70b0a",
   "metadata": {},
   "outputs": [],
   "source": [
    "# create a chat with the user and \n",
    "history = ChatMessageHistory()\n",
    "history.add_user_message(f\"\"\"You are an AI sales assistant. Based on the answers to the following {len(questions)} questions, you will recommend a home that best fits the user's preferences. Ask the user each question and consider their responses to suggest the most suitable property.\"\"\")\n",
    "for i in range(len(questions)):\n",
    "    history.add_ai_message(questions[i])\n",
    "    history.add_user_message(questions[i])"
   ]
  },
  {
   "cell_type": "code",
   "execution_count": 73,
   "id": "85d12719",
   "metadata": {},
   "outputs": [],
   "source": [
    "# summarize a chat\n",
    "max_rating = 5\n",
    "summary_memory = ConversationSummaryMemory(\n",
    "    llm=llm,\n",
    "    memory_key=\"recommendation_summary\",\n",
    "    input_key=\"input\",\n",
    "    buffer=f\"The user answered {len(questions)} personalized questions. Use their answers to rate, from 1 to {max_rating}, how well a home recommendation matches their preferences.\",\n",
    "    return_messages=True\n",
    ")\n"
   ]
  },
  {
   "cell_type": "code",
   "execution_count": 74,
   "id": "648d2689",
   "metadata": {},
   "outputs": [],
   "source": [
    "from typing import Any, Dict\n",
    "\n",
    "class MementoBufferMemory(ConversationBufferMemory):\n",
    "    # Save the context by extracting input-output pairs and adding AI's response to chat memory\n",
    "    def save_context(self, inputs: Dict[str, Any], outputs: Dict[str, str]) -> None:\n",
    "        # Extract input and output strings from the given inputs and outputs\n",
    "        input_str, output_str = self._get_input_output(inputs, outputs)\n",
    "        \n",
    "        # Add the AI-generated output to the chat memory\n",
    "        self.chat_memory.add_ai_message(output_str)\n",
    "\n",
    "# Create an instance of MementoBufferMemory to store and manage conversational history\n",
    "conversational_memory = MementoBufferMemory(\n",
    "    chat_memory=history,  # Use the existing history object to manage conversation\n",
    "    memory_key=\"questions_and_answers\",  # Key for storing question-answer pairs\n",
    "    input_key=\"input\"  # Key for accessing user input data\n",
    ")\n",
    "\n",
    "# Combine conversational memory and summary memory into a single memory object\n",
    "memory = CombinedMemory(memories=[conversational_memory, summary_memory])\n"
   ]
  },
  {
   "cell_type": "markdown",
   "id": "eb24048c",
   "metadata": {},
   "source": [
    "# Personalizing Listing Descriptions"
   ]
  },
  {
   "cell_type": "code",
   "execution_count": 75,
   "id": "0f9fa489",
   "metadata": {},
   "outputs": [],
   "source": [
    "# Initialize an empty list to store the user's responses from the conversation buffer\n",
    "user_responses = []\n",
    "\n",
    "# Loop through the messages in the conversational memory buffer\n",
    "for message in conversational_memory.buffer_as_messages:\n",
    "    # Check if the message type is 'human' (i.e., user response)\n",
    "    if message.type == \"human\":\n",
    "        # Append the content of the user's response to the list\n",
    "        user_responses.append(message.content)\n",
    "\n",
    "# Combine all the user's responses into a single string (user preferences)\n",
    "user_preferences = \" \".join(user_responses)\n",
    "\n",
    "# Use the combined user preferences to search for similar documents in the database\n",
    "similar_docs = db.similarity_search(user_preferences, k=5)\n",
    "\n",
    "# Format the top 5 similar documents as recommended listings\n",
    "recommended_listings = \"\\n\\n---------------------\\n\\n\".join([doc.page_content for doc in similar_docs])\n"
   ]
  },
  {
   "cell_type": "code",
   "execution_count": 76,
   "id": "82a6c555",
   "metadata": {},
   "outputs": [],
   "source": [
    "# Define a template for the friendly conversation between the human and the AI Real Estate Agent\n",
    "RECOMMENDER_TEMPLATE = \"\"\"\n",
    "The following is a friendly conversation between a human and an AI Real Estate Agent. \n",
    "The AI follows human instructions and provides home ratings for a human based on the home preferences. \n",
    "\n",
    "Summary of Recommendations:\n",
    "{recommendation_summary}\n",
    "\n",
    "Buyer's Preferences Q&A:\n",
    "{questions_and_answers}\n",
    "\n",
    "Recommended Listings:\n",
    "{recommended_listings}\n",
    "\n",
    "Human: {input}\n",
    "AI:\"\"\"\n",
    "\n",
    "# Create a partially populated PromptTemplate using the RECOMMENDER_TEMPLATE, \n",
    "# with the 'recommended_listings' variable inserted into the template\n",
    "PROMPT = PromptTemplate.from_template(RECOMMENDER_TEMPLATE).partial(recommended_listings=recommended_listings)\n",
    "\n",
    "# Initialize the ConversationChain with the language model (llm), memory, and the defined prompt\n",
    "recommender = ConversationChain(\n",
    "    llm=llm,           # The language model used for conversation\n",
    "    verbose=True,       # Enable verbose output for debugging\n",
    "    memory=memory,      # Memory object to maintain conversational context\n",
    "    prompt=PROMPT       # The prompt template used for generating conversation\n",
    ")\n"
   ]
  },
  {
   "cell_type": "markdown",
   "id": "14f358af",
   "metadata": {},
   "source": [
    "# Deliverables and Testing"
   ]
  },
  {
   "cell_type": "code",
   "execution_count": 77,
   "id": "576b3f6a",
   "metadata": {},
   "outputs": [
    {
     "name": "stdout",
     "output_type": "stream",
     "text": [
      "\n",
      "\n",
      "\u001b[1m> Entering new ConversationChain chain...\u001b[0m\n",
      "Prompt after formatting:\n",
      "\u001b[32;1m\u001b[1;3m\n",
      "The following is a friendly conversation between a human and an AI Real Estate Agent. \n",
      "The AI follows human instructions and provides home ratings for a human based on the home preferences. \n",
      "\n",
      "Summary of Recommendations:\n",
      "[SystemMessage(content='The user answered 4 personalized questions. Use their answers to rate, from 1 to 5, how well a home recommendation matches their preferences.')]\n",
      "\n",
      "Buyer's Preferences Q&A:\n",
      "Human: You are an AI sales assistant. Based on the answers to the following 4 questions, you will recommend a home that best fits the user's preferences. Ask the user each question and consider their responses to suggest the most suitable property.\n",
      "AI: How big do you want your house to be?What are 3 most important things for you in choosing this property?\n",
      "Human: How big do you want your house to be?What are 3 most important things for you in choosing this property?\n",
      "AI: Which amenities would you like?\n",
      "Human: Which amenities would you like?\n",
      "AI: Which transportation options are important to you?\n",
      "Human: Which transportation options are important to you?\n",
      "AI: How urban do you want your neighborhood to be?\n",
      "Human: How urban do you want your neighborhood to be?\n",
      "\n",
      "Recommended Listings:\n",
      "Neighborhood: Bayview Heights\n",
      "Price: $1\n",
      "Bedrooms: 100\n",
      "Bathrooms: 0\n",
      "House Size: 5\n",
      "Description: 4\n",
      "Neighborhood Description: 3\n",
      ": Bayview Heights is a prestigious neighborhood offering breathtaking views, upscale amenities, and close proximity to beaches and marinas. The community is known for its peaceful vibe and scenic beauty.\n",
      "\n",
      "---------------------\n",
      "\n",
      "Neighborhood: Bayview Heights\n",
      "Price: $1,100,000\n",
      "Bedrooms: 5\n",
      "Bathrooms: 4\n",
      "House Size: 3,400 sqft\n",
      "Description: Nestled on a hillside with panoramic ocean views, this 5-bedroom home in Bayview Heights offers luxury coastal living. Features include a chef's kitchen, hardwood flooring, and a spacious deck perfect for entertaining. Floor-to-ceiling windows bring in abundant natural light.\n",
      "Neighborhood Description: Bayview Heights is a prestigious neighborhood offering breathtaking views, upscale amenities, and close proximity to beaches and marinas. The community is known for its peaceful vibe and scenic beauty.\n",
      "\n",
      "---------------------\n",
      "\n",
      "Neighborhood: Riverbend\n",
      "Price: $870,000\n",
      "Bedrooms: 4\n",
      "Bathrooms: 3\n",
      "House Size: 2,800 sqft\n",
      "Description: Welcome to this modern 4-bedroom home in Riverbend. Features include an open floor plan, floor-to-ceiling windows, a gourmet kitchen, and a large deck that backs onto greenbelt space for added privacy.\n",
      "Neighborhood Description: Riverbend is a nature-forward neighborhood with access to river trails, kayaking spots, and birdwatching areas. It appeals to active families and outdoor enthusiasts.\n",
      "\n",
      "---------------------\n",
      "\n",
      "Neighborhood: Stonebridge\n",
      "Price: $800,000\n",
      "Bedrooms: 4\n",
      "Bathrooms: 3\n",
      "House Size: 2,600 sqft\n",
      "Description: Located in the heart of Stonebridge, this elegant 4-bedroom home offers modern comforts and classic appeal. Enjoy a gourmet kitchen with granite countertops, a formal dining room, and a finished basement ideal for a media room.\n",
      "Neighborhood Description: Stonebridge offers the perfect balance of city access and suburban peace. Its tree-lined streets, excellent public transportation, and community events make it a top choice for families and professionals.\n",
      "\n",
      "---------------------\n",
      "\n",
      "Neighborhood: Cedar Hills\n",
      "Price: $725,000\n",
      "Bedrooms: 3\n",
      "Bathrooms: 2.5\n",
      "House Size: 2,300 sqft\n",
      "Description: This charming two-story home in Cedar Hills features a welcoming front porch, a large family room with a fireplace, and a bright kitchen with a breakfast nook. The backyard includes a firepit and patio, perfect for entertaining.\n",
      "Neighborhood Description: Cedar Hills is a friendly and walkable neighborhood with top schools, neighborhood parks, and weekend farmers markets. It’s loved for its strong sense of community and natural surroundings.\n",
      "\n",
      "Human: \n",
      "Now score (0-5) each of the 10 listings based on the buyer's preferences. Format the output as follows:\n",
      "\n",
      "Home Match Score: [Score]                   # Score based on how well the listing matches buyer's preferences\n",
      "Neighborhood: [Neighborhood]               # Neighborhood description tailored to the buyer's preferences\n",
      "Price: [Price]                             # Price of the listing\n",
      "Bedrooms: [Bedrooms]                       # Number of bedrooms in the listing\n",
      "Bathrooms: [Bathrooms]                     # Number of bathrooms in the listing\n",
      "Size sqft: [Size sqft]                     # Size of the listing in square feet\n",
      "Description: [Personalize both the description and the neighborhood description of the listing based on buyer's preferences. Make sure the modified description is unique, appealing, and tailored to the buyer's provided preferences but keep the modified description factual]\n",
      "\n",
      "AI:\u001b[0m\n",
      "\n",
      "\u001b[1m> Finished chain.\u001b[0m\n",
      "Home Match Score: 4\n",
      "Neighborhood: Bayview Heights\n",
      "Price: $1,100,000\n",
      "Bedrooms: 5\n",
      "Bathrooms: 4\n",
      "Size sqft: 3,400\n",
      "Description: This luxurious 5-bedroom home in Bayview Heights offers the perfect blend of coastal living and upscale amenities. With panoramic ocean views, a chef's kitchen, and a spacious deck for entertaining, this home is ideal for those seeking a peaceful vibe and scenic beauty in a prestigious neighborhood known for its breathtaking views and close proximity to beaches and marinas.\n"
     ]
    }
   ],
   "source": [
    "# Define an augmented query to generate personalized descriptions for the top 5 listings\n",
    "augmented_query = \"\"\"\n",
    "Now score (0-5) each of the 10 listings based on the buyer's preferences. Format the output as follows:\n",
    "\n",
    "Home Match Score: [Score]                   # Score based on how well the listing matches buyer's preferences\n",
    "Neighborhood: [Neighborhood]               # Neighborhood description tailored to the buyer's preferences\n",
    "Price: [Price]                             # Price of the listing\n",
    "Bedrooms: [Bedrooms]                       # Number of bedrooms in the listing\n",
    "Bathrooms: [Bathrooms]                     # Number of bathrooms in the listing\n",
    "Size sqft: [Size sqft]                     # Size of the listing in square feet\n",
    "Description: [Personalize both the description and the neighborhood description of the listing based on buyer's preferences. Make sure the modified description is unique, appealing, and tailored to the buyer's provided preferences but keep the modified description factual]\n",
    "\"\"\"\n",
    "\n",
    "# Generate personalized recommendation by passing the augmented query into the recommender\n",
    "personalized_recommendation = recommender.predict(input=augmented_query)\n",
    "\n",
    "# Print the generated personalized recommendation\n",
    "print(personalized_recommendation)\n"
   ]
  },
  {
   "cell_type": "code",
   "execution_count": null,
   "id": "10638330",
   "metadata": {},
   "outputs": [],
   "source": []
  }
 ],
 "metadata": {
  "kernelspec": {
   "display_name": "Python 3 (ipykernel)",
   "language": "python",
   "name": "python3"
  },
  "language_info": {
   "codemirror_mode": {
    "name": "ipython",
    "version": 3
   },
   "file_extension": ".py",
   "mimetype": "text/x-python",
   "name": "python",
   "nbconvert_exporter": "python",
   "pygments_lexer": "ipython3",
   "version": "3.10.11"
  }
 },
 "nbformat": 4,
 "nbformat_minor": 5
}
